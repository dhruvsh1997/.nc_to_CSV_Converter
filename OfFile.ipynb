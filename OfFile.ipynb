{
 "cells": [
  {
   "cell_type": "code",
   "execution_count": 1,
   "id": "b364d30e",
   "metadata": {},
   "outputs": [],
   "source": [
    "import webbrowser\n",
    "import time\n",
    "import datetime\n",
    "import os,shutil"
   ]
  },
  {
   "cell_type": "code",
   "execution_count": 2,
   "id": "72cf239f",
   "metadata": {},
   "outputs": [],
   "source": [
    "i=0\n",
    "startdate=datetime.datetime.strptime('2011-07-01','%Y-%m-%d')\n",
    "enddate=datetime.datetime.strptime('2011-12-30','%Y-%m-%d')\n",
    "startnend=startdate.strftime('%Y-%m-%d')\n",
    "step=datetime.timedelta(days=1)"
   ]
  },
  {
   "cell_type": "code",
   "execution_count": 4,
   "id": "fd9630c0",
   "metadata": {},
   "outputs": [
    {
     "data": {
      "text/plain": [
       "True"
      ]
     },
     "execution_count": 4,
     "metadata": {},
     "output_type": "execute_result"
    }
   ],
   "source": [
    "webaddress='http://dapds00.nci.org.au/thredds/ncss/gb6/BRAN/BRAN_2016/OFAM/ocean_temp_'+startdate.strftime('%Y')+'_'+startdate.strftime('%m')+'.nc?var=temp&north=-32.65&west=114.17&east=115.22&south=-35.11&disableProjSubset=on&horizStride=1&time_start='+startnend+'T00%3A00%3A00Z&time_end='+startnend+'T23%3A00%3A00Z&timeStride=1&vertCoord='\n",
    "webbrowser.open(webaddress)"
   ]
  },
  {
   "cell_type": "code",
   "execution_count": null,
   "id": "fb1949ee",
   "metadata": {},
   "outputs": [],
   "source": [
    "#startdate=startdate+step\n",
    "while startdate<=enddate:\n",
    "    if os.path.isfile(r'C:\\Users\\Dhruv Sharma\\Desktop\\Work\\W22Saisri\\ocean_temp_'+startdate.strftime('%Y')+'_'+startdate.strftime('%m')+'.nc')==True:\n",
    "        i=i+1\n",
    "        \n",
    "        print(startdate,startnend)\n",
    "        newname='.\\D'+startnend[8:10]+'M'+startnend[5:7]+'Y'+startnend[0:4]+'.nc'\n",
    "        shutil.move(r'C:\\Users\\Dhruv Sharma\\Desktop\\Work\\W22Saisri\\ocean_temp_'+startdate.strftime('%Y')+'_'+startdate.strftime('%m')+'.nc',os.getcwd())    #address of your downloads folder\n",
    "        os.rename('ocean_temp_'+startdate.strftime('%Y')+'_'+startdate.strftime('%m')+'.nc',newname)\n",
    "        startdate+=step\n",
    "        startnend=startdate.strftime('%Y-%m-%d')\n",
    "        "
   ]
  },
  {
   "cell_type": "code",
   "execution_count": null,
   "id": "7aacfaa2",
   "metadata": {},
   "outputs": [],
   "source": [
    "webaddress='http://dapds00.nci.org.au/thredds/ncss/gb6/BRAN/BRAN_2016/OFAM/ocean_temp_'+startdate.strftime('%Y')+'_'+startdate.strftime('%m')+'.nc?var=temp&north=-32.65&west=114.17&east=115.22&south=-35.11&disableProjSubset=on&horizStride=1&time_start='+startnend+'T00%3A00%3A00Z&time_end='+startnend+'T23%3A00%3A00Z&timeStride=1&vertCoord='\n",
    "        webbrowser.open(webaddress)\n",
    "        \n",
    "    else:\n",
    "         time.sleep(30)   "
   ]
  }
 ],
 "metadata": {
  "kernelspec": {
   "display_name": "Python 3 (ipykernel)",
   "language": "python",
   "name": "python3"
  },
  "language_info": {
   "codemirror_mode": {
    "name": "ipython",
    "version": 3
   },
   "file_extension": ".py",
   "mimetype": "text/x-python",
   "name": "python",
   "nbconvert_exporter": "python",
   "pygments_lexer": "ipython3",
   "version": "3.8.8"
  }
 },
 "nbformat": 4,
 "nbformat_minor": 5
}
